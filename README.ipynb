# 🎲 Quantum Catan Challenge

## Hackathon Project: Real Quantum Algorithms Meet Board Game Strategy

---

## 🌟 Project Overview

**Quantum Catan Challenge** demonstrates the power of quantum computing by solving three classic optimization problems from the board game *Settlers of Catan* using **real quantum algorithms** implemented with IBM's Qiskit framework.

This project bridges the gap between abstract quantum computing concepts and tangible, visual applications that anyone can understand - because who doesn't love board games? 🎮

---

## 🚀 What Does It Do?

This program tackles three distinct optimization challenges using different quantum algorithms:

### **Problem 1: Settlement Placement Optimization 🏘️**
- **Algorithm:** QAOA (Quantum Approximate Optimization Algorithm)
- **Challenge:** Find optimal settlement locations that maximize resource diversity and production probability
- **Constraints:** Settlements must follow the "distance rule" - no two settlements can be on adjacent vertices
- **Quantum Advantage:** Explores exponentially large solution spaces efficiently

### **Problem 2: Longest Road Planning 🛣️**
- **Algorithm:** Quantum Walk
- **Challenge:** Find the longest possible road network using limited resources
- **Goal:** Connect roads to form the longest continuous path
- **Quantum Advantage:** Quantum walks explore graph structures in superposition

### **Problem 3: Resource Trading Strategy 💎**
- **Algorithm:** Grover's Search Algorithm
- **Challenge:** Optimize resource allocation to maximize victory points
- **Actions:** Build roads, settlements, cities, and buy development cards
- **Quantum Advantage:** Quadratic speedup in searching optimal trading sequences

---

## 🎯 Key Features

✅ **Real Quantum Circuits** - Not just simulations! Uses Qiskit with actual quantum gates  
✅ **Beautiful Visualizations** - Generates stunning hex-grid maps with highlighted solutions  
✅ **Classical Baselines** - Compares quantum results against greedy/DFS algorithms  
✅ **Reproducible Maps** - Seed-based random generation for consistency  
✅ **Detailed Analytics** - Comprehensive scoring metrics and constraint validation  

---

## 📦 Installation

### Prerequisites
```bash
pip install qiskit qiskit-aer numpy matplotlib networkx scipy
```

### Quick Start
```python
python VERSIUNEA_FINALA.py
```

That's it! The program will:
1. Generate a random Catan map (or use your seed)
2. Solve all three optimization problems
3. Save beautiful visualizations as PNG files

---

## 🎨 Output Visualizations

The program generates three stunning visualizations:

1. **`catan_map.png`** - Random terrain map with dice numbers
2. **`settlement_placement.png`** - Optimal settlement locations with resource annotations
3. **`longest_road.png`** - Maximum length road network highlighted in red

---

## ⚙️ Configuration Parameters

Customize the challenge by modifying these parameters at the top of the code:

```python
# Map generation
MAP_SEED = None  # Set to integer for reproducible maps

# Problem 1: Settlement Optimization
NUM_SETTLEMENTS = 3
DIVERSITY_WEIGHT = 2.0
PROBABILITY_WEIGHT = 1.5
QAOA_ITERATIONS = 30

# Problem 2: Longest Road
MAX_ROADS = 6
ROAD_ITERATIONS = 300

# Problem 3: Resource Trading
TRADE_ITERATIONS = 1000
```

---

## 🧮 How It Works

### QAOA Settlement Planner
1. Encodes settlement placement as a QUBO (Quadratic Unconstrained Binary Optimization) problem
2. Constructs quantum circuit with parameterized gates
3. Uses hybrid quantum-classical optimization (COBYLA)
4. Applies heavy penalties for constraint violations
5. Prioritizes 3-hex vertices (touching 3 tiles) over 2-hex and 1-hex vertices

### Quantum Walk Road Finder
1. Represents the hex grid as a graph with vertices and edges
2. Applies quantum walk operators with parameterized rotations
3. Measures quantum states to extract edge selections
4. Uses DFS to calculate longest continuous path in selected subgraph

### Grover's Resource Trader
1. Encodes possible actions (build road, settlement, city, dev card) as quantum states
2. Applies Grover's oracle and diffusion operators
3. Amplifies probability of optimal action sequences
4. Validates affordability and maximizes victory points

---

## 📊 Sample Output

```
==============================================================
QUANTUM CATAN - REAL QUANTUM ALGORITHMS
==============================================================

[*] Catan Map Generated:
  Total hexes: 7
  Terrain distribution:
    Field: 2
    Forest: 1
    Hill: 1
    Mountain: 2
    Pasture: 1

==============================================================
PROBLEM 1: QAOA SETTLEMENT PLANNER
==============================================================

[*] Graph built: 24 vertices, 36 edges
[*] Top vertices by tile count:

  3-hex vertices:
    V7: score=18.456 | {'wood', 'ore', 'wheat'} | [6, 10, 4]
    V12: score=17.234 | {'brick', 'ore', 'sheep'} | [8, 5, 9]

[OK] Optimization complete!
[RESULTS]
  Base Score: 52.1234
  Resource Diversity: 7.0
  Avg Probability: 14.58%
  Selected vertices: [7, 12, 18]

[OK] Solution VALID - Distance rule satisfied!
```

---


## 🔬 Technical Deep Dive

### Graph Construction
- Proper vertex mapping ensures shared vertices between adjacent hexes
- Graph structure preserves hex topology for distance calculations
- Adjacency matrix built efficiently with coordinate rounding

### Constraint Handling
- QAOA uses penalty terms in the Hamiltonian to enforce rules
- Heavy penalties (weight=100) for adjacent settlement violations
- Soft constraints for settlement count and resource diversity

### Quantum-Classical Hybrid
- COBYLA optimizer adjusts quantum circuit parameters
- Iterative feedback loop between quantum measurements and classical scoring
- Greedy fallback ensures valid solutions even if quantum fails

---

## 🎓 Learning Resources

Want to understand the quantum algorithms better?

- **QAOA:** [Qiskit Tutorial](https://qiskit.org/textbook/ch-applications/qaoa.html)
- **Quantum Walks:** [Introduction to Quantum Walks](https://arxiv.org/pdf/2002.01905)
- **Grover's Algorithm:** [Qiskit Grover's Guide](https://qiskit.org/textbook/ch-algorithms/grover.html)

---

## 🐛 Troubleshooting

**Circuit won't transpile?**
- Ensure you have qiskit-aer installed: `pip install qiskit-aer`

**Memory issues?**
- Reduce QAOA_ITERATIONS or ROAD_ITERATIONS
- The simulator needs ~8GB RAM for default settings

**No valid solutions found?**
- Increase QAOA_ITERATIONS for more exploration
- Check that NUM_SETTLEMENTS ≤ 3 for the 7-hex board

---

## 🤝 Contributing

This is a hackathon project, but contributions are welcome!
- Add more Catan mechanics (ports, robber, knights)
- Implement different quantum algorithms
- Optimize circuit depth
- Add more sophisticated scoring

---


## 🎉 Acknowledgments

- Built with **IBM Qiskit** - the leading quantum computing framework
- Inspired by the brilliant game design of *Settlers of Catan*
- Created for quantum computing enthusiasts and board game lovers alike

---

## 💡 Final Thoughts

Quantum computing isn't just about abstract math - it's about solving real problems in creative ways. This project shows how quantum algorithms can optimize decisions we make every day, whether on a game board or in complex logistics.

**Now go forth and conquer Catan... quantumly!** 🚀✨

---

## 📧 Contact

Questions? Feedback? Found a bug?  
Open an issue or reach out - we'd love to hear from you!

**Happy Quantum Gaming!** 🎲⚛️
